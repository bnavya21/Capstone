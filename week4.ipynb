{
    "nbformat": 4, 
    "metadata": {
        "language_info": {
            "pygments_lexer": "ipython3", 
            "file_extension": ".py", 
            "mimetype": "text/x-python", 
            "codemirror_mode": {
                "name": "ipython", 
                "version": 3
            }, 
            "version": "3.5.5", 
            "name": "python", 
            "nbconvert_exporter": "python"
        }, 
        "kernelspec": {
            "name": "python3", 
            "language": "python", 
            "display_name": "Python 3.5"
        }
    }, 
    "cells": [
        {
            "source": "", 
            "outputs": [
                {
                    "name": "stdout", 
                    "text": "Fetching package metadata .............\nSolving package specifications: .\n\nPackage plan for installation in environment /opt/conda/envs/DSX-Python35:\n\nThe following NEW packages will be INSTALLED:\n\n    geographiclib: 1.49-py_0   conda-forge\n    geopy:         1.17.0-py_0 conda-forge\n\ngeographiclib- 100% |################################| Time: 0:00:00   5.27 MB/s\ngeopy-1.17.0-p 100% |################################| Time: 0:00:00   5.76 MB/s\nFetching package metadata .............\nSolving package specifications: .\n\nPackage plan for installation in environment /opt/conda/envs/DSX-Python35:\n\nThe following NEW packages will be INSTALLED:\n\n    altair:  2.2.2-py35_1 conda-forge\n    branca:  0.3.1-py_0   conda-forge\n    folium:  0.5.0-py_0   conda-forge\n    vincent: 0.4.4-py_1   conda-forge\n\naltair-2.2.2-p 100% |################################| Time: 0:00:00   4.54 MB/s\nbranca-0.3.1-p 100% |################################| Time: 0:00:00  35.57 MB/s\nvincent-0.4.4- 100% |################################| Time: 0:00:00  40.12 MB/s\nfolium-0.5.0-p 100% |################################| Time: 0:00:00  41.84 MB/s\nLibraries imported.\n", 
                    "output_type": "stream"
                }
            ], 
            "execution_count": 1, 
            "cell_type": "code", 
            "metadata": {}
        }, 
        {
            "source": "# This project is to find the criminality in the given communities.", 
            "metadata": {}, 
            "cell_type": "markdown"
        }, 
        {
            "source": "import numpy as np # library to handle data in a vectorized manner\n\nimport pandas as pd # library for data analsysis\npd.set_option('display.max_columns', None)\npd.set_option('display.max_rows', None)\n\nimport json # library to handle JSON files\n\n!conda install -c conda-forge geopy --yes # uncomment this line if you haven't completed the Foursquare API lab\nfrom geopy.geocoders import Nominatim # convert an address into latitude and longitude values\n\nimport requests # library to handle requests\nfrom pandas.io.json import json_normalize # tranform JSON file into a pandas dataframe\n\n# Matplotlib and associated plotting modules\nimport matplotlib.cm as cm\nimport matplotlib.colors as colors\n\n# import k-means from clustering stage\nfrom sklearn.cluster import KMeans\n\n!conda install -c conda-forge folium=0.5.0 --yes # uncomment this line if you haven't completed the Foursquare API lab\nimport folium # map rendering library\n\nprint('Libraries imported.')", 
            "outputs": [
                {
                    "name": "stdout", 
                    "text": "Fetching package metadata .............\nSolving package specifications: .\n\nPackage plan for installation in environment /opt/conda/envs/DSX-Python35:\n\nThe following NEW packages will be INSTALLED:\n\n    geographiclib: 1.49-py_0   conda-forge\n    geopy:         1.17.0-py_0 conda-forge\n\ngeographiclib- 100% |################################| Time: 0:00:00   5.18 MB/s\ngeopy-1.17.0-p 100% |################################| Time: 0:00:00   5.47 MB/s\nFetching package metadata .............\nSolving package specifications: .\n\nPackage plan for installation in environment /opt/conda/envs/DSX-Python35:\n\nThe following NEW packages will be INSTALLED:\n\n    altair:  2.2.2-py35_1 conda-forge\n    branca:  0.3.1-py_0   conda-forge\n    folium:  0.5.0-py_0   conda-forge\n    vincent: 0.4.4-py_1   conda-forge\n\naltair-2.2.2-p 100% |################################| Time: 0:00:00   9.36 MB/s\nbranca-0.3.1-p 100% |################################| Time: 0:00:00  35.85 MB/s\nvincent-0.4.4- 100% |################################| Time: 0:00:00  36.22 MB/s\nfolium-0.5.0-p 100% |################################| Time: 0:00:00  44.36 MB/s\nLibraries imported.\n", 
                    "output_type": "stream"
                }
            ], 
            "execution_count": 3, 
            "cell_type": "code", 
            "metadata": {}
        }, 
        {
            "source": "# Foursquare app client credentials", 
            "metadata": {}, 
            "cell_type": "markdown"
        }, 
        {
            "source": "    Client ID=RE4GRP13P5KHY1KCD1JQNAIK3YQR0JNJBZLPHVTQ55AM0LOB\n    Client Secret=SVTNMVYFUHBIPAKVOH2ZHBB1H0JZ1J0NQ0YBRALM0VQV03AQ", 
            "metadata": {}, 
            "cell_type": "markdown"
        }, 
        {
            "source": "#cities of Eindhoven:\ncities = [\"Eindhoven\",\"Eersel\",\"Best\",\"Waalre\",\"Valkenswaard\",\"Geldrop\",\"Nuenen\",\"Son en Breugel\", \"Oirschot\", \"Veldhoven\"]\n\n# Define search strings for each neighbourhood to be used in getting its longitude and latitude:\naddresses = dict([(k, \"Center \"+str(k)+\" The Netherlands\") for k in cities])\n\n", 
            "outputs": [], 
            "execution_count": 5, 
            "cell_type": "code", 
            "metadata": {}
        }, 
        {
            "source": "# Store location information in a list:\ngeolocator = Nominatim()\nlocations = []\nfor key, value in addresses.items(): locations.append(geolocator.geocode(addresses[key]))\n\n#for item in range(0,len(locations)): print(locations[item].latitude, locations[item].longitude)", 
            "outputs": [
                {
                    "name": "stderr", 
                    "text": "/opt/conda/envs/DSX-Python35/lib/python3.5/site-packages/geopy/geocoders/osm.py:143: UserWarning: Using Nominatim with the default \"geopy/1.17.0\" `user_agent` is strongly discouraged, as it violates Nominatim's ToS https://operations.osmfoundation.org/policies/nominatim/ and may possibly cause 403 and 429 HTTP errors. Please specify a custom `user_agent` with `Nominatim(user_agent=\"my-application\")` or by overriding the default `user_agent`: `geopy.geocoders.options.default_user_agent = \"my-application\"`. In geopy 2.0 this will become an exception.\n  UserWarning\n", 
                    "output_type": "stream"
                }
            ], 
            "execution_count": 6, 
            "cell_type": "code", 
            "metadata": {}
        }, 
        {
            "source": "# Make dataframe with place & location:\nheaders = [\"place\",\"location\"]\ndf=pd.DataFrame(locations, columns=headers)\n\n# Split location in latitude and Longitude:\ndf[['lat', 'lng']]=df[\"location\"].apply(pd.Series)\ndf.drop([\"location\"], axis=1, inplace=True)\n\n# Clean up Place:\ndf['place']=df['place'].str.replace(',.*','')\ndf.set_index(\"place\", inplace=True)\ndf.head(10)", 
            "outputs": [
                {
                    "output_type": "execute_result", 
                    "execution_count": 7, 
                    "data": {
                        "text/plain": "                      lat       lng\nplace                              \nOirschot        51.503239  5.315549\nNuenen          51.486030  5.544007\nEindhoven       51.439265  5.478633\nWaalre          51.387640  5.447687\nGeldrop         51.422199  5.559182\nEersel          51.358637  5.320131\nVeldhoven       51.407706  5.392731\nSon en Breugel  51.517813  5.491435\nBest            51.510017  5.398662\nValkenswaard    51.350688  5.459450", 
                        "text/html": "<div>\n<style scoped>\n    .dataframe tbody tr th:only-of-type {\n        vertical-align: middle;\n    }\n\n    .dataframe tbody tr th {\n        vertical-align: top;\n    }\n\n    .dataframe thead th {\n        text-align: right;\n    }\n</style>\n<table border=\"1\" class=\"dataframe\">\n  <thead>\n    <tr style=\"text-align: right;\">\n      <th></th>\n      <th>lat</th>\n      <th>lng</th>\n    </tr>\n    <tr>\n      <th>place</th>\n      <th></th>\n      <th></th>\n    </tr>\n  </thead>\n  <tbody>\n    <tr>\n      <th>Oirschot</th>\n      <td>51.503239</td>\n      <td>5.315549</td>\n    </tr>\n    <tr>\n      <th>Nuenen</th>\n      <td>51.486030</td>\n      <td>5.544007</td>\n    </tr>\n    <tr>\n      <th>Eindhoven</th>\n      <td>51.439265</td>\n      <td>5.478633</td>\n    </tr>\n    <tr>\n      <th>Waalre</th>\n      <td>51.387640</td>\n      <td>5.447687</td>\n    </tr>\n    <tr>\n      <th>Geldrop</th>\n      <td>51.422199</td>\n      <td>5.559182</td>\n    </tr>\n    <tr>\n      <th>Eersel</th>\n      <td>51.358637</td>\n      <td>5.320131</td>\n    </tr>\n    <tr>\n      <th>Veldhoven</th>\n      <td>51.407706</td>\n      <td>5.392731</td>\n    </tr>\n    <tr>\n      <th>Son en Breugel</th>\n      <td>51.517813</td>\n      <td>5.491435</td>\n    </tr>\n    <tr>\n      <th>Best</th>\n      <td>51.510017</td>\n      <td>5.398662</td>\n    </tr>\n    <tr>\n      <th>Valkenswaard</th>\n      <td>51.350688</td>\n      <td>5.459450</td>\n    </tr>\n  </tbody>\n</table>\n</div>"
                    }, 
                    "metadata": {}
                }
            ], 
            "execution_count": 7, 
            "cell_type": "code", 
            "metadata": {}
        }, 
        {
            "source": "Region_map = folium.Map(location=[df.lat['Eindhoven'], df.lng['Eindhoven']], zoom_start=12) \n\n# add a red circle marker to represent the center of Eindhoven\nfolium.features.CircleMarker(\n    [df.lat['Eindhoven'], df.lng['Eindhoven']],\n    radius=10,\n    color='blue',\n    popup='Eindhoven',\n    fill = True,\n    fill_color = 'blue',\n    fill_opacity = 0.6\n).add_to(Region_map)\n\n# add the Neighbourhoods as blue circle markers\nfor lat, lng, label in zip(df.lat, df.lng, df.index):\n    if label != 'Eindhoven':\n        folium.features.CircleMarker(\n            [lat, lng],\n            radius=10,\n            color='red',\n            popup=label,\n            fill = True,\n            fill_color='red',\n            fill_opacity=0.6\n        ).add_to(Region_map)\n\n            \n                ", 
            "outputs": [], 
            "execution_count": 9, 
            "cell_type": "code", 
            "metadata": {}
        }, 
        {
            "source": "", 
            "outputs": [], 
            "execution_count": null, 
            "cell_type": "code", 
            "metadata": {}
        }, 
        {
            "source": "", 
            "outputs": [], 
            "execution_count": null, 
            "cell_type": "code", 
            "metadata": {}
        }, 
        {
            "source": "", 
            "outputs": [], 
            "execution_count": null, 
            "cell_type": "code", 
            "metadata": {}
        }
    ], 
    "nbformat_minor": 1
}