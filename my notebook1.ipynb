{
    "metadata": {
        "language_info": {
            "name": "python", 
            "version": "3.5.5", 
            "mimetype": "text/x-python", 
            "nbconvert_exporter": "python", 
            "codemirror_mode": {
                "name": "ipython", 
                "version": 3
            }, 
            "pygments_lexer": "ipython3", 
            "file_extension": ".py"
        }, 
        "kernelspec": {
            "language": "python", 
            "display_name": "Python 3.5", 
            "name": "python3"
        }
    }, 
    "nbformat": 4, 
    "cells": [
        {
            "metadata": {
                "collapsed": true
            }, 
            "cell_type": "markdown", 
            "source": "# This notebook is used for demostrating Capstone project."
        }, 
        {
            "metadata": {}, 
            "execution_count": 2, 
            "cell_type": "code", 
            "outputs": [], 
            "source": "import pandas as pd"
        }, 
        {
            "metadata": {}, 
            "execution_count": 3, 
            "cell_type": "code", 
            "outputs": [], 
            "source": "import numpy as np"
        }, 
        {
            "metadata": {}, 
            "execution_count": 4, 
            "cell_type": "code", 
            "outputs": [
                {
                    "output_type": "stream", 
                    "name": "stdout", 
                    "text": "Hello Capstone Project Course\n"
                }
            ], 
            "source": "print(\"Hello Capstone Project Course\")"
        }, 
        {
            "metadata": {}, 
            "execution_count": null, 
            "cell_type": "code", 
            "outputs": [], 
            "source": ""
        }
    ], 
    "nbformat_minor": 1
}